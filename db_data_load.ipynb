{
 "cells": [
  {
   "cell_type": "code",
   "execution_count": 1,
   "metadata": {},
   "outputs": [
    {
     "name": "stdout",
     "output_type": "stream",
     "text": [
      "Requirement already satisfied: psycopg2 in c:\\users\\ahuba oscar\\appdata\\local\\programs\\python\\python310\\lib\\site-packages (2.9.9)\n"
     ]
    },
    {
     "name": "stderr",
     "output_type": "stream",
     "text": [
      "\n",
      "[notice] A new release of pip is available: 24.2 -> 24.3.1\n",
      "[notice] To update, run: python.exe -m pip install --upgrade pip\n"
     ]
    }
   ],
   "source": [
    "!pip install psycopg2\n"
   ]
  },
  {
   "cell_type": "markdown",
   "metadata": {},
   "source": [
    "Connect Libs &\n",
    "Define the db connection parameters"
   ]
  },
  {
   "cell_type": "code",
   "execution_count": null,
   "metadata": {},
   "outputs": [],
   "source": [
    "\n",
    "import psycopg2\n",
    "import pandas as pd\n",
    "from sqlalchemy import create_engine, text\n",
    "\n",
    "db_params = {\n",
    "    'host': 'localhost',\n",
    "    'database': 'oscar_test',\n",
    "    'user': 'postgres',\n",
    "    'password': '******' \n",
    "}"
   ]
  },
  {
   "cell_type": "markdown",
   "metadata": {},
   "source": [
    "Connections to the 'oscar_test' db\n",
    "\n",
    "Define the file paths for your table files"
   ]
  },
  {
   "cell_type": "code",
   "execution_count": null,
   "metadata": {},
   "outputs": [
    {
     "name": "stdout",
     "output_type": "stream",
     "text": [
      "Contents of 'product' table file:\n",
      "  product_id product_name product_category  availale_quantity\n",
      "0       pp_4    Product D             Food                 56\n",
      "1       pp_3    Product C        Furniture                 43\n",
      "\n",
      "\n",
      "Contents of 'sales' table file:\n",
      "   order_id user_id product_name purchase_date  sales_price  quantity_purchase\n",
      "0      1001  user_1    Product D    2024-10-01         23.0                  1\n",
      "1      1002  user_2    Product D    2024-10-02         23.0                  3\n",
      "\n",
      "\n",
      "Contents of 'clicks' table file:\n",
      "  user_id  pages_visited  clicks search_queries user_behavior  \\\n",
      "0  user_1             13      40      Product D     Returning   \n",
      "1  user_2             13      47      Product D     Returning   \n",
      "\n",
      "   session_duration_seconds  \n",
      "0                       685  \n",
      "1                       722  \n",
      "\n",
      "\n"
     ]
    }
   ],
   "source": [
    "\n",
    "db_params['database'] = 'oscar_test'\n",
    "engine = create_engine(f'postgresql://{db_params[\"user\"]}:{db_params[\"password\"]}@{db_params[\"host\"]}/{db_params[\"database\"]}')\n",
    "\n",
    "\n",
    "table_files = {\n",
    "    'product' : \"C:/Users/Ahuba Oscar/Desktop/oscar/pyload/product.xlsx\",\n",
    "    'sales' : \"C:/Users/Ahuba Oscar/Desktop/oscar/pyload/sales.xlsx\",\n",
    "    'clicks' : \"C:/Users/Ahuba Oscar/Desktop/oscar/pyload/clicks.xlsx\"\n",
    "}\n",
    "\n",
    "\n",
    "for table_name, file_path in table_files.items():\n",
    "    print(f\"Contents of '{table_name}' table file:\")\n",
    "    df = pd.read_excel(file_path)\n",
    "    print(df.head(2)) \n",
    "    print(\"\\n\")"
   ]
  },
  {
   "cell_type": "markdown",
   "metadata": {},
   "source": [
    "Loop through the files and import them into PostgreSQL"
   ]
  },
  {
   "cell_type": "code",
   "execution_count": 5,
   "metadata": {},
   "outputs": [],
   "source": [
    "\n",
    "for table_name, file_path in table_files.items():\n",
    "    df = pd.read_excel(file_path)\n",
    "    df.to_sql(table_name, engine, if_exists='replace', index=False)"
   ]
  }
 ],
 "metadata": {
  "kernelspec": {
   "display_name": "Python 3",
   "language": "python",
   "name": "python3"
  },
  "language_info": {
   "codemirror_mode": {
    "name": "ipython",
    "version": 3
   },
   "file_extension": ".py",
   "mimetype": "text/x-python",
   "name": "python",
   "nbconvert_exporter": "python",
   "pygments_lexer": "ipython3",
   "version": "3.10.10"
  }
 },
 "nbformat": 4,
 "nbformat_minor": 2
}
