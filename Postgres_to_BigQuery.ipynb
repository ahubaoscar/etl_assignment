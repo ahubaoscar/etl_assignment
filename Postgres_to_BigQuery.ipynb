{
 "cells": [
  {
   "cell_type": "code",
   "execution_count": null,
   "id": "8edd23bb",
   "metadata": {},
   "outputs": [
    {
     "name": "stdout",
     "output_type": "stream",
     "text": [
      "Collecting psycopg2-binary\n",
      "  Downloading psycopg2_binary-2.9.10-cp310-cp310-win_amd64.whl.metadata (5.0 kB)\n",
      "Requirement already satisfied: pandas in c:\\users\\ahuba oscar\\appdata\\local\\programs\\python\\python310\\lib\\site-packages (1.5.3)\n",
      "Requirement already satisfied: google-cloud-bigquery in c:\\users\\ahuba oscar\\appdata\\local\\programs\\python\\python310\\lib\\site-packages (3.7.0)\n",
      "Requirement already satisfied: sqlalchemy in c:\\users\\ahuba oscar\\appdata\\local\\programs\\python\\python310\\lib\\site-packages (2.0.17)\n",
      "Requirement already satisfied: python-dateutil>=2.8.1 in c:\\users\\ahuba oscar\\appdata\\local\\programs\\python\\python310\\lib\\site-packages (from pandas) (2.8.2)\n",
      "Requirement already satisfied: pytz>=2020.1 in c:\\users\\ahuba oscar\\appdata\\local\\programs\\python\\python310\\lib\\site-packages (from pandas) (2022.7.1)\n",
      "Requirement already satisfied: numpy>=1.21.0 in c:\\users\\ahuba oscar\\appdata\\local\\programs\\python\\python310\\lib\\site-packages (from pandas) (1.24.3)\n",
      "Requirement already satisfied: grpcio<2.0dev,>=1.47.0 in c:\\users\\ahuba oscar\\appdata\\local\\programs\\python\\python310\\lib\\site-packages (from google-cloud-bigquery) (1.51.3)\n",
      "Requirement already satisfied: google-api-core!=2.0.*,!=2.1.*,!=2.2.*,!=2.3.0,<3.0.0dev,>=1.31.5 in c:\\users\\ahuba oscar\\appdata\\local\\programs\\python\\python310\\lib\\site-packages (from google-api-core[grpc]!=2.0.*,!=2.1.*,!=2.2.*,!=2.3.0,<3.0.0dev,>=1.31.5->google-cloud-bigquery) (2.11.0)\n",
      "Requirement already satisfied: proto-plus<2.0.0dev,>=1.15.0 in c:\\users\\ahuba oscar\\appdata\\local\\programs\\python\\python310\\lib\\site-packages (from google-cloud-bigquery) (1.22.2)\n",
      "Requirement already satisfied: google-cloud-core<3.0.0dev,>=1.6.0 in c:\\users\\ahuba oscar\\appdata\\local\\programs\\python\\python310\\lib\\site-packages (from google-cloud-bigquery) (2.3.2)\n",
      "Requirement already satisfied: google-resumable-media<3.0dev,>=0.6.0 in c:\\users\\ahuba oscar\\appdata\\local\\programs\\python\\python310\\lib\\site-packages (from google-cloud-bigquery) (2.4.1)\n",
      "Requirement already satisfied: packaging>=20.0.0 in c:\\users\\ahuba oscar\\appdata\\local\\programs\\python\\python310\\lib\\site-packages (from google-cloud-bigquery) (23.0)\n",
      "Requirement already satisfied: protobuf!=3.20.0,!=3.20.1,!=4.21.0,!=4.21.1,!=4.21.2,!=4.21.3,!=4.21.4,!=4.21.5,<5.0.0dev,>=3.19.5 in c:\\users\\ahuba oscar\\appdata\\local\\programs\\python\\python310\\lib\\site-packages (from google-cloud-bigquery) (4.22.1)\n",
      "Requirement already satisfied: requests<3.0.0dev,>=2.21.0 in c:\\users\\ahuba oscar\\appdata\\local\\programs\\python\\python310\\lib\\site-packages (from google-cloud-bigquery) (2.28.2)\n",
      "Requirement already satisfied: typing-extensions>=4.2.0 in c:\\users\\ahuba oscar\\appdata\\local\\programs\\python\\python310\\lib\\site-packages (from sqlalchemy) (4.12.2)\n",
      "Requirement already satisfied: greenlet!=0.4.17 in c:\\users\\ahuba oscar\\appdata\\local\\programs\\python\\python310\\lib\\site-packages (from sqlalchemy) (2.0.2)\n",
      "Requirement already satisfied: googleapis-common-protos<2.0dev,>=1.56.2 in c:\\users\\ahuba oscar\\appdata\\local\\programs\\python\\python310\\lib\\site-packages (from google-api-core!=2.0.*,!=2.1.*,!=2.2.*,!=2.3.0,<3.0.0dev,>=1.31.5->google-api-core[grpc]!=2.0.*,!=2.1.*,!=2.2.*,!=2.3.0,<3.0.0dev,>=1.31.5->google-cloud-bigquery) (1.58.0)\n",
      "Requirement already satisfied: google-auth<3.0dev,>=2.14.1 in c:\\users\\ahuba oscar\\appdata\\local\\programs\\python\\python310\\lib\\site-packages (from google-api-core!=2.0.*,!=2.1.*,!=2.2.*,!=2.3.0,<3.0.0dev,>=1.31.5->google-api-core[grpc]!=2.0.*,!=2.1.*,!=2.2.*,!=2.3.0,<3.0.0dev,>=1.31.5->google-cloud-bigquery) (2.16.2)\n",
      "Requirement already satisfied: grpcio-status<2.0dev,>=1.33.2 in c:\\users\\ahuba oscar\\appdata\\local\\programs\\python\\python310\\lib\\site-packages (from google-api-core[grpc]!=2.0.*,!=2.1.*,!=2.2.*,!=2.3.0,<3.0.0dev,>=1.31.5->google-cloud-bigquery) (1.51.3)\n",
      "Requirement already satisfied: google-crc32c<2.0dev,>=1.0 in c:\\users\\ahuba oscar\\appdata\\local\\programs\\python\\python310\\lib\\site-packages (from google-resumable-media<3.0dev,>=0.6.0->google-cloud-bigquery) (1.5.0)\n",
      "Requirement already satisfied: six>=1.5 in c:\\users\\ahuba oscar\\appdata\\local\\programs\\python\\python310\\lib\\site-packages (from python-dateutil>=2.8.1->pandas) (1.16.0)\n",
      "Requirement already satisfied: charset-normalizer<4,>=2 in c:\\users\\ahuba oscar\\appdata\\local\\programs\\python\\python310\\lib\\site-packages (from requests<3.0.0dev,>=2.21.0->google-cloud-bigquery) (3.1.0)\n",
      "Requirement already satisfied: idna<4,>=2.5 in c:\\users\\ahuba oscar\\appdata\\local\\programs\\python\\python310\\lib\\site-packages (from requests<3.0.0dev,>=2.21.0->google-cloud-bigquery) (3.4)\n",
      "Requirement already satisfied: urllib3<1.27,>=1.21.1 in c:\\users\\ahuba oscar\\appdata\\local\\programs\\python\\python310\\lib\\site-packages (from requests<3.0.0dev,>=2.21.0->google-cloud-bigquery) (1.26.15)\n",
      "Requirement already satisfied: certifi>=2017.4.17 in c:\\users\\ahuba oscar\\appdata\\local\\programs\\python\\python310\\lib\\site-packages (from requests<3.0.0dev,>=2.21.0->google-cloud-bigquery) (2022.12.7)\n",
      "Requirement already satisfied: cachetools<6.0,>=2.0.0 in c:\\users\\ahuba oscar\\appdata\\local\\programs\\python\\python310\\lib\\site-packages (from google-auth<3.0dev,>=2.14.1->google-api-core!=2.0.*,!=2.1.*,!=2.2.*,!=2.3.0,<3.0.0dev,>=1.31.5->google-api-core[grpc]!=2.0.*,!=2.1.*,!=2.2.*,!=2.3.0,<3.0.0dev,>=1.31.5->google-cloud-bigquery) (5.3.0)\n",
      "Requirement already satisfied: pyasn1-modules>=0.2.1 in c:\\users\\ahuba oscar\\appdata\\local\\programs\\python\\python310\\lib\\site-packages (from google-auth<3.0dev,>=2.14.1->google-api-core!=2.0.*,!=2.1.*,!=2.2.*,!=2.3.0,<3.0.0dev,>=1.31.5->google-api-core[grpc]!=2.0.*,!=2.1.*,!=2.2.*,!=2.3.0,<3.0.0dev,>=1.31.5->google-cloud-bigquery) (0.2.8)\n",
      "Requirement already satisfied: rsa<5,>=3.1.4 in c:\\users\\ahuba oscar\\appdata\\local\\programs\\python\\python310\\lib\\site-packages (from google-auth<3.0dev,>=2.14.1->google-api-core!=2.0.*,!=2.1.*,!=2.2.*,!=2.3.0,<3.0.0dev,>=1.31.5->google-api-core[grpc]!=2.0.*,!=2.1.*,!=2.2.*,!=2.3.0,<3.0.0dev,>=1.31.5->google-cloud-bigquery) (4.9)\n",
      "Requirement already satisfied: pyasn1<0.5.0,>=0.4.6 in c:\\users\\ahuba oscar\\appdata\\local\\programs\\python\\python310\\lib\\site-packages (from pyasn1-modules>=0.2.1->google-auth<3.0dev,>=2.14.1->google-api-core!=2.0.*,!=2.1.*,!=2.2.*,!=2.3.0,<3.0.0dev,>=1.31.5->google-api-core[grpc]!=2.0.*,!=2.1.*,!=2.2.*,!=2.3.0,<3.0.0dev,>=1.31.5->google-cloud-bigquery) (0.4.8)\n",
      "Downloading psycopg2_binary-2.9.10-cp310-cp310-win_amd64.whl (1.2 MB)\n",
      "   ---------------------------------------- 0.0/1.2 MB ? eta -:--:--\n",
      "   --------- ------------------------------ 0.3/1.2 MB ? eta -:--:--\n",
      "   ---------------------------------------- 1.2/1.2 MB 4.8 MB/s eta 0:00:00\n",
      "Installing collected packages: psycopg2-binary\n"
     ]
    },
    {
     "name": "stderr",
     "output_type": "stream",
     "text": [
      "ERROR: Could not install packages due to an OSError: [WinError 5] Access is denied: 'C:\\\\Users\\\\Ahuba Oscar\\\\AppData\\\\Local\\\\Programs\\\\Python\\\\Python310\\\\Lib\\\\site-packages\\\\psycopg2\\\\_psycopg.cp310-win_amd64.pyd'\n",
      "Consider using the `--user` option or check the permissions.\n",
      "\n",
      "\n",
      "[notice] A new release of pip is available: 24.2 -> 24.3.1\n",
      "[notice] To update, run: python.exe -m pip install --upgrade pip\n"
     ]
    }
   ],
   "source": [
    "\n",
    "# install the required packages\n",
    "!pip install psycopg2-binary pandas google-cloud-bigquery sqlalchemy\n",
    "\n"
   ]
  },
  {
   "cell_type": "code",
   "execution_count": 11,
   "metadata": {},
   "outputs": [],
   "source": [
    "# Import necessary libraries\n",
    "import psycopg2\n",
    "import pandas as pd\n",
    "from google.cloud import bigquery\n",
    "import os\n"
   ]
  },
  {
   "cell_type": "code",
   "execution_count": 15,
   "metadata": {},
   "outputs": [],
   "source": [
    "os.environ[\"GOOGLE_APPLICATION_CREDENTIALS\"] =\"C:/Users/Ahuba Oscar/Desktop/oscar/pyload/ahubamcap-8b34f96a26d3.json\""
   ]
  },
  {
   "cell_type": "code",
   "execution_count": 16,
   "metadata": {},
   "outputs": [],
   "source": [
    "# PostgreSQL Connection\n",
    "def fetch_data_from_postgres(host, dbname, user, password, query):\n",
    "    \"\"\"\n",
    "    Connect to a PostgreSQL database and fetch data based on a query.\n",
    "    \"\"\"\n",
    "    try:\n",
    "        conn = psycopg2.connect(\n",
    "            host=host,\n",
    "            database=dbname,\n",
    "            user=user,\n",
    "            password=password\n",
    "        )\n",
    "        print(\"Connected to PostgreSQL database.\")\n",
    "        # Execute query and fetch data\n",
    "        df = pd.read_sql_query(query, conn)\n",
    "        print(\"Data fetched successfully.\")\n",
    "        return df\n",
    "    except Exception as e:\n",
    "        print(f\"Error: {e}\")\n",
    "    finally:\n",
    "        conn.close()\n",
    "\n"
   ]
  },
  {
   "cell_type": "code",
   "execution_count": null,
   "metadata": {},
   "outputs": [
    {
     "name": "stdout",
     "output_type": "stream",
     "text": [
      "Connected to PostgreSQL database.\n",
      "Data fetched successfully.\n",
      "Uploading data to BigQuery...\n"
     ]
    },
    {
     "name": "stderr",
     "output_type": "stream",
     "text": [
      "C:\\Users\\Ahuba Oscar\\AppData\\Local\\Temp\\ipykernel_21808\\2406722519.py:15: UserWarning: pandas only supports SQLAlchemy connectable (engine/connection) or database string URI or sqlite3 DBAPI2 connection. Other DBAPI2 objects are not tested. Please consider using SQLAlchemy.\n",
      "  df = pd.read_sql_query(query, conn)\n"
     ]
    },
    {
     "name": "stdout",
     "output_type": "stream",
     "text": [
      "Data uploaded successfully to ahubamcap.test.sales.\n"
     ]
    }
   ],
   "source": [
    "# BigQuery Upload\n",
    "def upload_data_to_bigquery(dataframe, table_id):\n",
    "    \"\"\"\n",
    "    Upload a Pandas DataFrame to a BigQuery table.\n",
    "    \"\"\"\n",
    "    client = bigquery.Client()\n",
    "    job_config = bigquery.LoadJobConfig(\n",
    "        write_disposition=\"WRITE_TRUNCATE\"  # Overwrite table if it exists\n",
    "    )\n",
    "    try:\n",
    "        print(\"Uploading data to BigQuery...\")\n",
    "        job = client.load_table_from_dataframe(dataframe, table_id, job_config=job_config)\n",
    "        job.result()  # Wait for the job to complete\n",
    "        print(f\"Data uploaded successfully to {table_id}.\")\n",
    "    except Exception as e:\n",
    "        print(f\"Error: {e}\")\n",
    "\n",
    "\n"
   ]
  },
  {
   "cell_type": "code",
   "execution_count": null,
   "metadata": {},
   "outputs": [],
   "source": [
    "# Parameters for PostgreSQL\n",
    "POSTGRES_HOST = \"localhost\"\n",
    "POSTGRES_DB = \"oscar_test\"\n",
    "POSTGRES_USER = \"postgres\"\n",
    "POSTGRES_PASSWORD = \"********\""
   ]
  },
  {
   "cell_type": "code",
   "execution_count": null,
   "metadata": {},
   "outputs": [
    {
     "name": "stdout",
     "output_type": "stream",
     "text": [
      "Connected to PostgreSQL database.\n",
      "Data fetched successfully.\n",
      "Uploading data to BigQuery...\n"
     ]
    },
    {
     "name": "stderr",
     "output_type": "stream",
     "text": [
      "C:\\Users\\Ahuba Oscar\\AppData\\Local\\Temp\\ipykernel_21808\\2406722519.py:15: UserWarning: pandas only supports SQLAlchemy connectable (engine/connection) or database string URI or sqlite3 DBAPI2 connection. Other DBAPI2 objects are not tested. Please consider using SQLAlchemy.\n",
      "  df = pd.read_sql_query(query, conn)\n"
     ]
    },
    {
     "name": "stdout",
     "output_type": "stream",
     "text": [
      "Data uploaded successfully to ahubamcap.test.sales.\n"
     ]
    }
   ],
   "source": [
    "# Load sales data\n",
    "\n",
    "QUERY = \"SELECT * FROM sales\"\n",
    "\n",
    "# Fetch data\n",
    "postgres_df = fetch_data_from_postgres(POSTGRES_HOST, POSTGRES_DB, POSTGRES_USER, POSTGRES_PASSWORD, QUERY)\n",
    "\n",
    "# Parameters for BigQuery\n",
    "BIGQUERY_TABLE_ID = \"ahubamcap.test.sales\"\n",
    "\n",
    "# Upload data to BigQuery\n",
    "if not postgres_df.empty:\n",
    "    upload_data_to_bigquery(postgres_df, BIGQUERY_TABLE_ID)\n",
    "else:\n",
    "    print(\"No data fetched from PostgreSQL.\")"
   ]
  },
  {
   "cell_type": "code",
   "execution_count": null,
   "metadata": {},
   "outputs": [
    {
     "name": "stdout",
     "output_type": "stream",
     "text": [
      "Connected to PostgreSQL database.\n",
      "Data fetched successfully.\n",
      "Uploading data to BigQuery...\n"
     ]
    },
    {
     "name": "stderr",
     "output_type": "stream",
     "text": [
      "C:\\Users\\Ahuba Oscar\\AppData\\Local\\Temp\\ipykernel_21808\\2406722519.py:15: UserWarning: pandas only supports SQLAlchemy connectable (engine/connection) or database string URI or sqlite3 DBAPI2 connection. Other DBAPI2 objects are not tested. Please consider using SQLAlchemy.\n",
      "  df = pd.read_sql_query(query, conn)\n"
     ]
    },
    {
     "name": "stdout",
     "output_type": "stream",
     "text": [
      "Data uploaded successfully to ahubamcap.test.clicks.\n"
     ]
    }
   ],
   "source": [
    "# Load clicks data\n",
    "QUERY = \"SELECT * FROM clicks\"\n",
    "\n",
    "# Fetch data\n",
    "postgres_df = fetch_data_from_postgres(POSTGRES_HOST, POSTGRES_DB, POSTGRES_USER, POSTGRES_PASSWORD, QUERY)\n",
    "\n",
    "# Parameters for BigQuery\n",
    "BIGQUERY_TABLE_ID = \"ahubamcap.test.clicks\"\n",
    "\n",
    "# Upload data to BigQuery\n",
    "if not postgres_df.empty:\n",
    "    upload_data_to_bigquery(postgres_df, BIGQUERY_TABLE_ID)\n",
    "else:\n",
    "    print(\"No data fetched from PostgreSQL.\")"
   ]
  },
  {
   "cell_type": "code",
   "execution_count": null,
   "metadata": {},
   "outputs": [
    {
     "name": "stdout",
     "output_type": "stream",
     "text": [
      "Connected to PostgreSQL database.\n",
      "Data fetched successfully.\n",
      "Uploading data to BigQuery...\n"
     ]
    },
    {
     "name": "stderr",
     "output_type": "stream",
     "text": [
      "C:\\Users\\Ahuba Oscar\\AppData\\Local\\Temp\\ipykernel_21808\\2406722519.py:15: UserWarning: pandas only supports SQLAlchemy connectable (engine/connection) or database string URI or sqlite3 DBAPI2 connection. Other DBAPI2 objects are not tested. Please consider using SQLAlchemy.\n",
      "  df = pd.read_sql_query(query, conn)\n"
     ]
    },
    {
     "name": "stdout",
     "output_type": "stream",
     "text": [
      "Data uploaded successfully to ahubamcap.test.product.\n"
     ]
    }
   ],
   "source": [
    "# Load product data\n",
    "QUERY = \"SELECT * FROM product\"\n",
    "\n",
    "# Fetch data\n",
    "postgres_df = fetch_data_from_postgres(POSTGRES_HOST, POSTGRES_DB, POSTGRES_USER, POSTGRES_PASSWORD, QUERY)\n",
    "\n",
    "# Parameters for BigQuery\n",
    "BIGQUERY_TABLE_ID = \"ahubamcap.test.product\"\n",
    "\n",
    "# Upload data to BigQuery\n",
    "if not postgres_df.empty:\n",
    "    upload_data_to_bigquery(postgres_df, BIGQUERY_TABLE_ID)\n",
    "else:\n",
    "    print(\"No data fetched from PostgreSQL.\")"
   ]
  }
 ],
 "metadata": {
  "kernelspec": {
   "display_name": "Python 3",
   "language": "python",
   "name": "python3"
  },
  "language_info": {
   "codemirror_mode": {
    "name": "ipython",
    "version": 3
   },
   "file_extension": ".py",
   "mimetype": "text/x-python",
   "name": "python",
   "nbconvert_exporter": "python",
   "pygments_lexer": "ipython3",
   "version": "3.10.10"
  }
 },
 "nbformat": 4,
 "nbformat_minor": 5
}
